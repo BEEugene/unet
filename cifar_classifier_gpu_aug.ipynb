{
  "nbformat": 4,
  "nbformat_minor": 0,
  "metadata": {
    "colab": {
      "name": "cifar-classifier-gpu-aug.ipynb",
      "version": "0.3.2",
      "provenance": [],
      "collapsed_sections": [],
      "toc_visible": true,
      "include_colab_link": true
    },
    "kernelspec": {
      "name": "python3",
      "display_name": "Python 3"
    },
    "accelerator": "GPU"
  },
  "cells": [
    {
      "cell_type": "markdown",
      "metadata": {
        "id": "view-in-github",
        "colab_type": "text"
      },
      "source": [
        "<a href=\"https://colab.research.google.com/github/BEEugene/unet/blob/master/cifar_classifier_gpu_aug.ipynb\" target=\"_parent\"><img src=\"https://colab.research.google.com/assets/colab-badge.svg\" alt=\"Open In Colab\"/></a>"
      ]
    },
    {
      "cell_type": "markdown",
      "metadata": {
        "id": "z_ET40x6HpsB",
        "colab_type": "text"
      },
      "source": [
        "Source: \n",
        "* https://medium.com/@jannik.zuern/using-a-tpu-in-google-colab-54257328d7da\n",
        "* https://colab.research.google.com/github/tensorflow/tpu/blob/master/tools/colab/fashion_mnist.ipynb#scrollTo=pWEYmd_hIWg8"
      ]
    },
    {
      "cell_type": "code",
      "metadata": {
        "id": "z0DRPKl39290",
        "colab_type": "code",
        "colab": {}
      },
      "source": [
        "import numpy as np\n",
        "import pickle\n",
        "import os\n",
        "import urllib\n",
        "import zipfile \n",
        "import tarfile\n",
        "from six.moves import urllib\n",
        "\n",
        "from __future__ import absolute_import\n",
        "from __future__ import division\n",
        "from __future__ import print_function\n",
        "\n",
        "# tensorflow imports\n",
        "import tensorflow as tf\n",
        "from tensorflow.contrib.training import HParams\n",
        "\n",
        "# tf.keras imports\n",
        "from tensorflow.keras import Model\n",
        "from tensorflow.keras.layers import Dense, Conv2D, Activation, Flatten\n",
        "from tensorflow.keras.layers import BatchNormalization, AveragePooling2D, Input\n",
        "from tensorflow.keras.preprocessing.image import ImageDataGenerator\n",
        "\n",
        "# import for showing the confusion matrix\n",
        "import itertools\n",
        "from sklearn.metrics import confusion_matrix\n",
        "import matplotlib.pyplot as plt\n",
        "import numpy as np"
      ],
      "execution_count": 0,
      "outputs": []
    },
    {
      "cell_type": "code",
      "metadata": {
        "id": "9Ohk-wk-Ht9U",
        "colab_type": "code",
        "outputId": "83d7d426-f019-4c35-e568-082bacc686c6",
        "colab": {
          "base_uri": "https://localhost:8080/",
          "height": 35
        }
      },
      "source": [
        "tf.__version__"
      ],
      "execution_count": 0,
      "outputs": [
        {
          "output_type": "execute_result",
          "data": {
            "text/plain": [
              "'1.13.1'"
            ]
          },
          "metadata": {
            "tags": []
          },
          "execution_count": 2
        }
      ]
    },
    {
      "cell_type": "markdown",
      "metadata": {
        "id": "EJJ9RthRS9Fv",
        "colab_type": "text"
      },
      "source": [
        "Define hyperparameters for training"
      ]
    },
    {
      "cell_type": "code",
      "metadata": {
        "id": "KZtezQ4qD-lU",
        "colab_type": "code",
        "colab": {}
      },
      "source": [
        "hparams = HParams(\n",
        "    n_classes=10,  # number of different classes in dataset\n",
        "    learning_rate=1e-3,  # fixed learning rate\n",
        "    train_batch_size=128,  # training batch size\n",
        "    val_batch_size=128,  # validation batch size\n",
        "    test_batch_size=256,  # testing batch size\n",
        "    n_epochs=50,  # number of epochs to train\n",
        "    input_name='input_1',  # name of the input tensor for first layer of Keras model\n",
        "    data_dir='/tmp/cifar-data/',  # path to data directory\n",
        "    checkpoint_dir='/tmp/checkpoints/'  # path to model checkpoint directory\n",
        ")"
      ],
      "execution_count": 0,
      "outputs": []
    },
    {
      "cell_type": "code",
      "metadata": {
        "id": "UtMeD3n-IMFH",
        "colab_type": "code",
        "outputId": "16b3b452-c17e-49d6-b852-831cbf2ffb78",
        "colab": {
          "base_uri": "https://localhost:8080/",
          "height": 164
        }
      },
      "source": [
        "!df -h"
      ],
      "execution_count": 0,
      "outputs": [
        {
          "output_type": "stream",
          "text": [
            "Filesystem      Size  Used Avail Use% Mounted on\n",
            "overlay         359G   23G  318G   7% /\n",
            "tmpfs           6.4G     0  6.4G   0% /dev\n",
            "tmpfs           6.4G     0  6.4G   0% /sys/fs/cgroup\n",
            "/dev/sda1       365G   28G  338G   8% /opt/bin\n",
            "tmpfs           6.4G   12K  6.4G   1% /var/colab\n",
            "shm             6.0G     0  6.0G   0% /dev/shm\n",
            "tmpfs           6.4G     0  6.4G   0% /sys/firmware\n"
          ],
          "name": "stdout"
        }
      ]
    },
    {
      "cell_type": "markdown",
      "metadata": {
        "id": "BsL72f44TA3I",
        "colab_type": "text"
      },
      "source": [
        "## Monitor training using TensorBoard"
      ]
    },
    {
      "cell_type": "markdown",
      "metadata": {
        "id": "BXSBbyK1FyBh",
        "colab_type": "text"
      },
      "source": [
        "First, let's download and install the awesome tool [ngrok](https://ngrok.com/). Ngrok allows us to create a public URL to access the localhost of the ipython environment within Google Colab. This allows us to access the TensorBoard within the browser of your local machine."
      ]
    },
    {
      "cell_type": "code",
      "metadata": {
        "id": "L35DdtT_FOXP",
        "colab_type": "code",
        "outputId": "7d2a444c-0cc1-46fe-8db4-823696ddb78b",
        "colab": {
          "base_uri": "https://localhost:8080/",
          "height": 256
        }
      },
      "source": [
        "! wget https://bin.equinox.io/c/4VmDzA7iaHb/ngrok-stable-linux-amd64.zip\n",
        "! unzip -o ngrok-stable-linux-amd64.zip"
      ],
      "execution_count": 0,
      "outputs": [
        {
          "output_type": "stream",
          "text": [
            "--2019-04-02 08:57:27--  https://bin.equinox.io/c/4VmDzA7iaHb/ngrok-stable-linux-amd64.zip\n",
            "Resolving bin.equinox.io (bin.equinox.io)... 52.86.186.182, 52.72.145.109, 52.203.53.176, ...\n",
            "Connecting to bin.equinox.io (bin.equinox.io)|52.86.186.182|:443... connected.\n",
            "HTTP request sent, awaiting response... 200 OK\n",
            "Length: 14977695 (14M) [application/octet-stream]\n",
            "Saving to: ‘ngrok-stable-linux-amd64.zip.3’\n",
            "\n",
            "\r          ngrok-sta   0%[                    ]       0  --.-KB/s               \rngrok-stable-linux- 100%[===================>]  14.28M  77.5MB/s    in 0.2s    \n",
            "\n",
            "2019-04-02 08:57:27 (77.5 MB/s) - ‘ngrok-stable-linux-amd64.zip.3’ saved [14977695/14977695]\n",
            "\n",
            "Archive:  ngrok-stable-linux-amd64.zip\n",
            "  inflating: ngrok                   \n"
          ],
          "name": "stdout"
        }
      ]
    },
    {
      "cell_type": "markdown",
      "metadata": {
        "id": "EB5P9HvKEblD",
        "colab_type": "text"
      },
      "source": [
        "Now, we run `ngrok` in the `ipython` environment and tunnel the data to a public random URL using ngrok."
      ]
    },
    {
      "cell_type": "code",
      "metadata": {
        "id": "YwZrIjZkEEYu",
        "colab_type": "code",
        "outputId": "c1f178ea-22e8-4a9d-d4cf-d1ab2079d2b8",
        "colab": {
          "base_uri": "https://localhost:8080/",
          "height": 72
        }
      },
      "source": [
        "# kill all running ngrok instances\n",
        "!pkill -f ngrok\n",
        "\n",
        "# Execute tensorboard\n",
        "!rm rf /tmp/checkpoints\n",
        "!mkdir /tmp/checkpoints\n",
        "LOG_DIR = '/tmp/checkpoints/'\n",
        "get_ipython().system_raw(\n",
        "    'tensorboard --logdir {} --host 0.0.0.0 --port 6006 &'\n",
        "    .format(LOG_DIR)\n",
        ")\n",
        "\n",
        "# execute ngrok\n",
        "get_ipython().system_raw('./ngrok http 6006 &')"
      ],
      "execution_count": 0,
      "outputs": [
        {
          "output_type": "stream",
          "text": [
            "rm: cannot remove 'rf': No such file or directory\n",
            "rm: cannot remove '/tmp/checkpoints': Is a directory\n",
            "mkdir: cannot create directory ‘/tmp/checkpoints’: File exists\n"
          ],
          "name": "stdout"
        }
      ]
    },
    {
      "cell_type": "markdown",
      "metadata": {
        "id": "gkCnSnAREdny",
        "colab_type": "text"
      },
      "source": [
        "The below code should output a URL containg the TensorBoard visualizations for the classifier we are about to train and evaluate."
      ]
    },
    {
      "cell_type": "code",
      "metadata": {
        "id": "3Imio4YREFzg",
        "colab_type": "code",
        "outputId": "40ec6c58-3e7c-4371-d777-039ac1326ba4",
        "colab": {
          "base_uri": "https://localhost:8080/",
          "height": 35
        }
      },
      "source": [
        "# Do the tunneling\n",
        "! curl -s http://localhost:4040/api/tunnels | python3 -c \\\n",
        "    \"import sys, json; print(json.load(sys.stdin)['tunnels'][0]['public_url'])\""
      ],
      "execution_count": 0,
      "outputs": [
        {
          "output_type": "stream",
          "text": [
            "http://06f45db5.ngrok.io\n"
          ],
          "name": "stdout"
        }
      ]
    },
    {
      "cell_type": "markdown",
      "metadata": {
        "id": "0KqmhIDXTKK7",
        "colab_type": "text"
      },
      "source": [
        "## Data download and preprocessing"
      ]
    },
    {
      "cell_type": "markdown",
      "metadata": {
        "id": "VuC2mMKOIIRJ",
        "colab_type": "text"
      },
      "source": [
        "This code is boilerplate code for downloading and preprocessing of the CIFAR-10 dataset. Credits to [Hvass-Labs](https://github.com/Hvass-Labs/TensorFlow-Tutorials/blob/master/cifar10.py)."
      ]
    },
    {
      "cell_type": "code",
      "metadata": {
        "id": "14MHCUDo0s82",
        "colab_type": "code",
        "outputId": "36c6fc0e-8e17-43aa-a93e-5ee3a86124dd",
        "colab": {
          "base_uri": "https://localhost:8080/",
          "height": 368
        }
      },
      "source": [
        "!pip install albumentations"
      ],
      "execution_count": 0,
      "outputs": [
        {
          "output_type": "stream",
          "text": [
            "Requirement already satisfied: albumentations in /usr/local/lib/python3.6/dist-packages (0.1.12)\n",
            "Requirement already satisfied: numpy>=1.11.1 in /usr/local/lib/python3.6/dist-packages (from albumentations) (1.14.6)\n",
            "Requirement already satisfied: scipy in /usr/local/lib/python3.6/dist-packages (from albumentations) (1.1.0)\n",
            "Requirement already satisfied: opencv-python in /usr/local/lib/python3.6/dist-packages (from albumentations) (3.4.5.20)\n",
            "Requirement already satisfied: imgaug<0.2.7,>=0.2.5 in /usr/local/lib/python3.6/dist-packages (from albumentations) (0.2.6)\n",
            "Requirement already satisfied: six in /usr/local/lib/python3.6/dist-packages (from imgaug<0.2.7,>=0.2.5->albumentations) (1.11.0)\n",
            "Requirement already satisfied: scikit-image>=0.11.0 in /usr/local/lib/python3.6/dist-packages (from imgaug<0.2.7,>=0.2.5->albumentations) (0.13.1)\n",
            "Requirement already satisfied: pillow>=2.1.0 in /usr/local/lib/python3.6/dist-packages (from scikit-image>=0.11.0->imgaug<0.2.7,>=0.2.5->albumentations) (4.1.1)\n",
            "Requirement already satisfied: matplotlib>=1.3.1 in /usr/local/lib/python3.6/dist-packages (from scikit-image>=0.11.0->imgaug<0.2.7,>=0.2.5->albumentations) (3.0.3)\n",
            "Requirement already satisfied: networkx>=1.8 in /usr/local/lib/python3.6/dist-packages (from scikit-image>=0.11.0->imgaug<0.2.7,>=0.2.5->albumentations) (2.2)\n",
            "Requirement already satisfied: PyWavelets>=0.4.0 in /usr/local/lib/python3.6/dist-packages (from scikit-image>=0.11.0->imgaug<0.2.7,>=0.2.5->albumentations) (1.0.2)\n",
            "Requirement already satisfied: olefile in /usr/local/lib/python3.6/dist-packages (from pillow>=2.1.0->scikit-image>=0.11.0->imgaug<0.2.7,>=0.2.5->albumentations) (0.46)\n",
            "Requirement already satisfied: kiwisolver>=1.0.1 in /usr/local/lib/python3.6/dist-packages (from matplotlib>=1.3.1->scikit-image>=0.11.0->imgaug<0.2.7,>=0.2.5->albumentations) (1.0.1)\n",
            "Requirement already satisfied: python-dateutil>=2.1 in /usr/local/lib/python3.6/dist-packages (from matplotlib>=1.3.1->scikit-image>=0.11.0->imgaug<0.2.7,>=0.2.5->albumentations) (2.5.3)\n",
            "Requirement already satisfied: pyparsing!=2.0.4,!=2.1.2,!=2.1.6,>=2.0.1 in /usr/local/lib/python3.6/dist-packages (from matplotlib>=1.3.1->scikit-image>=0.11.0->imgaug<0.2.7,>=0.2.5->albumentations) (2.3.1)\n",
            "Requirement already satisfied: cycler>=0.10 in /usr/local/lib/python3.6/dist-packages (from matplotlib>=1.3.1->scikit-image>=0.11.0->imgaug<0.2.7,>=0.2.5->albumentations) (0.10.0)\n",
            "Requirement already satisfied: decorator>=4.3.0 in /usr/local/lib/python3.6/dist-packages (from networkx>=1.8->scikit-image>=0.11.0->imgaug<0.2.7,>=0.2.5->albumentations) (4.4.0)\n",
            "Requirement already satisfied: setuptools in /usr/local/lib/python3.6/dist-packages (from kiwisolver>=1.0.1->matplotlib>=1.3.1->scikit-image>=0.11.0->imgaug<0.2.7,>=0.2.5->albumentations) (40.8.0)\n"
          ],
          "name": "stdout"
        }
      ]
    },
    {
      "cell_type": "code",
      "metadata": {
        "id": "FsMz27uZ0vBn",
        "colab_type": "code",
        "colab": {}
      },
      "source": [
        "from albumentations import (\n",
        "    Compose, HorizontalFlip, Rotate, CLAHE, HueSaturationValue,\n",
        "    RandomBrightness, RandomContrast, RandomGamma, JpegCompression,\n",
        "    ToFloat, ShiftScaleRotate\n",
        ")\n",
        "import cv2"
      ],
      "execution_count": 0,
      "outputs": []
    },
    {
      "cell_type": "code",
      "metadata": {
        "id": "EajrUBCS0TnW",
        "colab_type": "code",
        "colab": {}
      },
      "source": [
        "AUGMENTATIONS_TRAIN = Compose([\n",
        "    HorizontalFlip(p=0.5),\n",
        "    RandomContrast(limit=0.2, p=0.5),\n",
        "    RandomGamma(gamma_limit=(80, 120), p=0.5),\n",
        "    RandomBrightness(limit=0.2, p=0.5),\n",
        "    HueSaturationValue(hue_shift_limit=5, sat_shift_limit=20,\n",
        "                       val_shift_limit=10, p=.9),\n",
        "    CLAHE(p=1.0, clip_limit=2.0),\n",
        "    ShiftScaleRotate(\n",
        "        shift_limit=0.0625, scale_limit=0.1, \n",
        "        rotate_limit=15, border_mode=cv2.BORDER_REFLECT_101, p=0.8), \n",
        "    # Rotate(limit=15, border_mode=cv2.BORDER_REFLECT_101),\n",
        "    # JpegCompression(quality_lower=50, quality_upper=100, p=0.5),\n",
        "    ToFloat(max_value=255)\n",
        "])\n",
        "\n",
        "AUGMENTATIONS_TEST = Compose([\n",
        "    CLAHE(p=1.0, clip_limit=2.0),\n",
        "    ToFloat(max_value=255)\n",
        "])"
      ],
      "execution_count": 0,
      "outputs": []
    },
    {
      "cell_type": "code",
      "metadata": {
        "id": "2EpQ-iJN94G1",
        "colab_type": "code",
        "colab": {}
      },
      "source": [
        "# URL for the data-set on the internet.\n",
        "data_url = \"https://www.cs.toronto.edu/~kriz/cifar-10-python.tar.gz\"\n",
        "\n",
        "# Width and height of each image.\n",
        "img_size = 32\n",
        "\n",
        "# Number of channels in each image, 3 channels: Red, Green, Blue.\n",
        "num_channels = 3\n",
        "\n",
        "# Length of an image when flattened to a 1-dim array.\n",
        "img_size_flat = img_size * img_size * num_channels\n",
        "\n",
        "# Number of classes.\n",
        "num_classes = hparams.n_classes\n",
        "\n",
        "########################################################################\n",
        "# Various constants used to allocate arrays of the correct size.\n",
        "\n",
        "# Number of files for the training-set.\n",
        "_num_files_train = 5\n",
        "\n",
        "# Number of images for each batch-file in the training-set.\n",
        "_images_per_file = 10000\n",
        "\n",
        "# Total number of images in the training-set.\n",
        "# This is used to pre-allocate arrays for efficiency.\n",
        "_num_images_train = _num_files_train * _images_per_file\n",
        "\n",
        "########################################################################\n",
        "# Private functions for downloading, unpacking and loading data-files.\n",
        "\n",
        "\n",
        "def download(base_url, filename, download_dir):\n",
        "    \"\"\"\n",
        "    Download the given file if it does not already exist in the download_dir.\n",
        "    :param base_url: The internet URL without the filename.\n",
        "    :param filename: The filename that will be added to the base_url.\n",
        "    :param download_dir: Local directory for storing the file.\n",
        "    :return: Nothing.\n",
        "    \"\"\"\n",
        "\n",
        "    # Path for local file.\n",
        "    save_path = os.path.join(download_dir, filename)\n",
        "\n",
        "    # Check if the file already exists, otherwise we need to download it now.\n",
        "    if not os.path.exists(save_path):\n",
        "        # Check if the download directory exists, otherwise create it.\n",
        "        if not os.path.exists(download_dir):\n",
        "            os.makedirs(download_dir)\n",
        "\n",
        "        print(\"Downloading\", filename, \"...\")\n",
        "\n",
        "        # Download the file from the internet.\n",
        "        url = base_url + filename\n",
        "        file_path, _ = urllib.request.urlretrieve(url=url,\n",
        "                                                  filename=save_path)\n",
        "\n",
        "        print(\" Done!\")\n",
        "\n",
        "\n",
        "def maybe_download_and_extract(url=data_url, download_dir=hparams.data_dir):\n",
        "    \"\"\"\n",
        "    Download and extract the data if it doesn't already exist.\n",
        "    Assumes the url is a tar-ball file.\n",
        "    :param url:\n",
        "        Internet URL for the tar-file to download.\n",
        "        Example: \"https://www.cs.toronto.edu/~kriz/cifar-10-python.tar.gz\"\n",
        "    :param download_dir:\n",
        "        Directory where the downloaded file is saved.\n",
        "        Example: \"data/CIFAR-10/\"\n",
        "    :return:\n",
        "        Nothing.\n",
        "    \"\"\"\n",
        "\n",
        "    # Filename for saving the file downloaded from the internet.\n",
        "    # Use the filename from the URL and add it to the download_dir.\n",
        "    filename = url.split('/')[-1]\n",
        "    file_path = os.path.join(download_dir, filename)\n",
        "\n",
        "    # Check if the file already exists.\n",
        "    # If it exists then we assume it has also been extracted,\n",
        "    # otherwise we need to download and extract it now.\n",
        "    if not os.path.exists(file_path):\n",
        "        # Check if the download directory exists, otherwise create it.\n",
        "        if not os.path.exists(download_dir):\n",
        "            os.makedirs(download_dir)\n",
        "\n",
        "        # Download the file from the internet.\n",
        "        file_path, _ = urllib.request.urlretrieve(url=url,\n",
        "                                                  filename=file_path)\n",
        "\n",
        "        print()\n",
        "        print(\"Download finished. Extracting files.\")\n",
        "\n",
        "        if file_path.endswith(\".zip\"):\n",
        "            # Unpack the zip-file.\n",
        "            zipfile.ZipFile(file=file_path, mode=\"r\").extractall(download_dir)\n",
        "        elif file_path.endswith((\".tar.gz\", \".tgz\")):\n",
        "            # Unpack the tar-ball.\n",
        "            tarfile.open(name=file_path, mode=\"r:gz\").extractall(download_dir)\n",
        "\n",
        "        print(\"Done.\")\n",
        "    else:\n",
        "        print(\"Data has apparently already been downloaded and unpacked.\")\n",
        "\n",
        "\n",
        "def _get_file_path(filename=\"\"):\n",
        "    \"\"\"\n",
        "    Return the full path of a data-file for the data-set.\n",
        "\n",
        "    If filename==\"\" then return the directory of the files.\n",
        "    \"\"\"\n",
        "\n",
        "    return os.path.join(hparams.data_dir, \"cifar-10-batches-py/\", filename)\n",
        "\n",
        "\n",
        "def _unpickle(filename):\n",
        "    \"\"\"\n",
        "    Unpickle the given file and return the data.\n",
        "\n",
        "    Note that the appropriate dir-name is prepended the filename.\n",
        "    \"\"\"\n",
        "\n",
        "    # Create full path for the file.\n",
        "    file_path = _get_file_path(filename)\n",
        "\n",
        "    print(\"Loading data: \" + file_path)\n",
        "\n",
        "    with open(file_path, mode='rb') as file:\n",
        "        # In Python 3.X it is important to set the encoding,\n",
        "        # otherwise an exception is raised here.\n",
        "        data = pickle.load(file,encoding='bytes')\n",
        "\n",
        "    return data\n",
        "\n",
        "\n",
        "def _convert_images(raw):\n",
        "    \"\"\"\n",
        "    Convert images from the CIFAR-10 format and\n",
        "    return a 4-dim array with shape: [image_number, height, width, channel]\n",
        "    where the pixels are floats between 0.0 and 1.0.\n",
        "    \"\"\"\n",
        "\n",
        "    # Convert the raw images from the data-files to floating-points.\n",
        "    # raw_float = np.array(raw, dtype=float) / 255.0\n",
        "\n",
        "    # Reshape the array to 4-dimensions.\n",
        "    images = raw.reshape([-1, num_channels, img_size, img_size])\n",
        "\n",
        "    # Reorder the indices of the array.\n",
        "    images = images.transpose([0, 2, 3, 1])\n",
        "\n",
        "    return images\n",
        "\n",
        "\n",
        "def _load_data(filename):\n",
        "    \"\"\"\n",
        "    Load a pickled data-file from the CIFAR-10 data-set\n",
        "    and return the converted images (see above) and the class-number\n",
        "    for each image.\n",
        "    \"\"\"\n",
        "\n",
        "    # Load the pickled data-file.\n",
        "    data = _unpickle(filename)\n",
        "\n",
        "    # Get the raw images.\n",
        "    raw_images = data[b'data']\n",
        "\n",
        "    # Get the class-numbers for each image. Convert to numpy-array.\n",
        "    cls = np.array(data[b'labels'])\n",
        "\n",
        "    # Convert the images.\n",
        "    images = _convert_images(raw_images)\n",
        "\n",
        "    return images, cls\n",
        "\n",
        "\n",
        "def load_class_names():\n",
        "    # Load the class-names from the pickled file.\n",
        "    raw = _unpickle(filename=\"batches.meta\")[b'label_names']\n",
        "\n",
        "    # Convert from binary strings.\n",
        "    names = [x.decode('utf-8') for x in raw]\n",
        "\n",
        "    return names\n",
        "\n",
        "\n",
        "def load_training_data():\n",
        "    \"\"\"\n",
        "    Load all the training-data for the CIFAR-10 data-set.\n",
        "\n",
        "    The data-set is split into 5 data-files which are merged here.\n",
        "\n",
        "    Returns the images, class-numbers and one-hot encoded class-labels.\n",
        "    \"\"\"\n",
        "\n",
        "    # Pre-allocate the arrays for the images and class-numbers for efficiency.\n",
        "    images = np.zeros(shape=[_num_images_train, img_size, img_size, num_channels], dtype=np.uint8)\n",
        "    cls = np.zeros(shape=[_num_images_train], dtype=int)\n",
        "\n",
        "    # Begin-index for the current batch.\n",
        "    begin = 0\n",
        "\n",
        "    # For each data-file.\n",
        "    for i in range(_num_files_train):\n",
        "        # Load the images and class-numbers from the data-file.\n",
        "        images_batch, cls_batch = _load_data(filename=\"data_batch_\" + str(i + 1))\n",
        "\n",
        "        # Number of images in this batch.\n",
        "        num_images = len(images_batch)\n",
        "\n",
        "        # End-index for the current batch.\n",
        "        end = begin + num_images\n",
        "\n",
        "        # Store the images into the array.\n",
        "        images[begin:end, :] = images_batch\n",
        "\n",
        "        # Store the class-numbers into the array.\n",
        "        cls[begin:end] = cls_batch\n",
        "\n",
        "        # The begin-index for the next batch is the current end-index.\n",
        "        begin = end\n",
        "\n",
        "    return images, cls\n",
        "\n",
        "\n",
        "def load_validation_data():\n",
        "\n",
        "    images, cls = _load_data(filename=\"test_batch\")\n",
        "\n",
        "    images = images[5000:, :, :, :]\n",
        "    cls = cls[5000:]\n",
        "\n",
        "    return images, cls\n",
        "\n",
        "def load_testing_data():\n",
        "\n",
        "\n",
        "    images, cls = _load_data(filename=\"test_batch\")\n",
        "\n",
        "    images = images[:5000, :, :, :]\n",
        "    cls = cls[:5000]\n",
        "\n",
        "    return images, cls"
      ],
      "execution_count": 0,
      "outputs": []
    },
    {
      "cell_type": "code",
      "metadata": {
        "id": "wnq5ASa21gpQ",
        "colab_type": "code",
        "outputId": "25c79765-11de-4c71-e407-74d2f9db91db",
        "colab": {
          "base_uri": "https://localhost:8080/",
          "height": 54
        }
      },
      "source": [
        "import matplotlib.pyplot as plt\n",
        "maybe_download_and_extract()\n",
        "x_val, y_val = load_validation_data()"
      ],
      "execution_count": 0,
      "outputs": [
        {
          "output_type": "stream",
          "text": [
            "Data has apparently already been downloaded and unpacked.\n",
            "Loading data: /tmp/cifar-data/cifar-10-batches-py/test_batch\n"
          ],
          "name": "stdout"
        }
      ]
    },
    {
      "cell_type": "code",
      "metadata": {
        "id": "UsCeVdHD2jQC",
        "colab_type": "code",
        "outputId": "0f3beea7-6bdc-47c4-a160-2c6f47dc815f",
        "colab": {
          "base_uri": "https://localhost:8080/",
          "height": 35
        }
      },
      "source": [
        "x_val.shape"
      ],
      "execution_count": 0,
      "outputs": [
        {
          "output_type": "execute_result",
          "data": {
            "text/plain": [
              "(5000, 32, 32, 3)"
            ]
          },
          "metadata": {
            "tags": []
          },
          "execution_count": 13
        }
      ]
    },
    {
      "cell_type": "code",
      "metadata": {
        "id": "slIg17Vi3Ipy",
        "colab_type": "code",
        "outputId": "e104d40b-e747-41d5-fecb-4776d07c217b",
        "colab": {
          "base_uri": "https://localhost:8080/",
          "height": 268
        }
      },
      "source": [
        "fig = plt.figure(figsize=(5,4))\n",
        "for i in range(3):\n",
        "    for j in range(3):\n",
        "        ax = fig.add_subplot(3, 3, i * 3 + j + 1)\n",
        "        ax.imshow(x_val[i * 3 + j])"
      ],
      "execution_count": 0,
      "outputs": [
        {
          "output_type": "display_data",
          "data": {
            "image/png": "[encoded data removed]",
            "text/plain": [
              "<Figure size 360x288 with 9 Axes>"
            ]
          },
          "metadata": {
            "tags": []
          }
        }
      ]
    },
    {
      "cell_type": "code",
      "metadata": {
        "id": "3PFASqxg49Lu",
        "colab_type": "code",
        "outputId": "515a4fdb-86c1-4b24-9d66-1d41d66c2259",
        "colab": {
          "base_uri": "https://localhost:8080/",
          "height": 268
        }
      },
      "source": [
        "fig = plt.figure(figsize=(5,4))\n",
        "for i in range(3):\n",
        "    for j in range(3):\n",
        "        ax = fig.add_subplot(3, 3, i * 3 + j + 1)\n",
        "        ax.imshow((AUGMENTATIONS_TRAIN(image=x_val[20])[\"image\"] * 255).astype(np.uint8))"
      ],
      "execution_count": 0,
      "outputs": [
        {
          "output_type": "display_data",
          "data": {
            "image/png": "[encoded data removed]",
            "text/plain": [
              "<Figure size 360x288 with 9 Axes>"
            ]
          },
          "metadata": {
            "tags": []
          }
        }
      ]
    },
    {
      "cell_type": "markdown",
      "metadata": {
        "id": "Ufy-yFR85dRK",
        "colab_type": "text"
      },
      "source": [
        "# Sequence Class"
      ]
    },
    {
      "cell_type": "code",
      "metadata": {
        "id": "VlvusgeU5f-d",
        "colab_type": "code",
        "colab": {}
      },
      "source": [
        "from tensorflow.python.keras.utils.data_utils import Sequence, is_generator_or_sequence"
      ],
      "execution_count": 0,
      "outputs": []
    },
    {
      "cell_type": "code",
      "metadata": {
        "id": "nfKzzFFL520Z",
        "colab_type": "code",
        "colab": {}
      },
      "source": [
        "class CIFAR10Sequence(Sequence):\n",
        "\n",
        "    def __init__(self, x_set, y_set, batch_size, augmentations):\n",
        "        self.x, self.y = x_set, y_set\n",
        "        self.batch_size = batch_size\n",
        "        self.augment = augmentations\n",
        "\n",
        "    def __len__(self):\n",
        "        return int(np.ceil(len(self.x) / float(self.batch_size)))\n",
        "\n",
        "    def __getitem__(self, idx):\n",
        "        batch_x = self.x[idx * self.batch_size:(idx + 1) * self.batch_size]\n",
        "        batch_y = self.y[idx * self.batch_size:(idx + 1) * self.batch_size]\n",
        "        \n",
        "        return np.stack([\n",
        "            self.augment(image=x)[\"image\"] for x in batch_x\n",
        "        ], axis=0), np.array(batch_y)"
      ],
      "execution_count": 0,
      "outputs": []
    },
    {
      "cell_type": "code",
      "metadata": {
        "id": "61tymWG2AH2F",
        "colab_type": "code",
        "outputId": "1c3d5ef7-d5a3-48d8-d535-e8f2d2deec4d",
        "colab": {
          "base_uri": "https://localhost:8080/",
          "height": 35
        }
      },
      "source": [
        "x_val, y_val = load_validation_data()\n",
        "valid_gen = CIFAR10Sequence(x_val, y_val, hparams.val_batch_size, augmentations=AUGMENTATIONS_TEST)"
      ],
      "execution_count": 0,
      "outputs": [
        {
          "output_type": "stream",
          "text": [
            "Loading data: /tmp/cifar-data/cifar-10-batches-py/test_batch\n"
          ],
          "name": "stdout"
        }
      ]
    },
    {
      "cell_type": "code",
      "metadata": {
        "id": "TBPPRp6YD9U_",
        "colab_type": "code",
        "outputId": "e679effa-c0c7-4152-f4b3-b581bd634a8f",
        "colab": {
          "base_uri": "https://localhost:8080/",
          "height": 35
        }
      },
      "source": [
        "is_generator_or_sequence(valid_gen )"
      ],
      "execution_count": 0,
      "outputs": [
        {
          "output_type": "execute_result",
          "data": {
            "text/plain": [
              "True"
            ]
          },
          "metadata": {
            "tags": []
          },
          "execution_count": 19
        }
      ]
    },
    {
      "cell_type": "code",
      "metadata": {
        "id": "YQzEjLKeAtic",
        "colab_type": "code",
        "outputId": "fd45a48c-80c8-4e2e-d314-ab7ecaf03530",
        "colab": {
          "base_uri": "https://localhost:8080/",
          "height": 35
        }
      },
      "source": [
        "valid_gen[2][0].shape"
      ],
      "execution_count": 0,
      "outputs": [
        {
          "output_type": "execute_result",
          "data": {
            "text/plain": [
              "(128, 32, 32, 3)"
            ]
          },
          "metadata": {
            "tags": []
          },
          "execution_count": 20
        }
      ]
    },
    {
      "cell_type": "markdown",
      "metadata": {
        "id": "eiCehG29Urjk",
        "colab_type": "text"
      },
      "source": [
        "# Network architecture\n",
        "\n",
        "The below code defines the architecture of the neural network we are going to train. We will be using the infamous Resnet architecture with Shortcut connections and bottlenecs. The paper may be found [here](https://www.cv-foundation.org/openaccess/content_cvpr_2016/papers/He_Deep_Residual_Learning_CVPR_2016_paper.pdf).\n",
        "\n",
        "We will be using the `tensorflow.keras` API - TensorFlow's implementation of the Keras API specification. This is a high-level API to build and train models that includes first-class support for TensorFlow-specific functionality. Keras is able to use TensorFlow as its backend for tensor processing during training and inference, making Keras easy-to-use but also just as fast as pure TensorFlow models.\n",
        "\n",
        "The model code is part of the Keras examples and may be found [here](https://github.com/keras-team/keras/blob/master/examples/cifar10_resnet.py)."
      ]
    },
    {
      "cell_type": "code",
      "metadata": {
        "id": "9mj6sUIhU009",
        "colab_type": "code",
        "colab": {}
      },
      "source": [
        "from tensorflow.keras.regularizers import l2\n",
        "\n",
        "def resnet_layer(inputs,\n",
        "                 num_filters=16,\n",
        "                 kernel_size=3,\n",
        "                 strides=1,\n",
        "                 activation='relu',\n",
        "                 batch_normalization=True,\n",
        "                 conv_first=True):\n",
        "    \"\"\"2D Convolution-Batch Normalization-Activation stack builder\n",
        "    # Arguments\n",
        "        inputs (tensor): input tensor from input image or previous layer\n",
        "        num_filters (int): Conv2D number of filters\n",
        "        kernel_size (int): Conv2D square kernel dimensions\n",
        "        strides (int): Conv2D square stride dimensions\n",
        "        activation (string): activation name\n",
        "        batch_normalization (bool): whether to include batch normalization\n",
        "        conv_first (bool): conv-bn-activation (True) or\n",
        "            bn-activation-conv (False)\n",
        "    # Returns\n",
        "        x (tensor): tensor as input to the next layer\n",
        "    \"\"\"\n",
        "    conv = Conv2D(num_filters,\n",
        "                  kernel_size=kernel_size,\n",
        "                  strides=strides,\n",
        "                  padding='same',\n",
        "                  kernel_initializer='he_normal',\n",
        "                  kernel_regularizer=l2(1e-4))\n",
        "\n",
        "    x = inputs\n",
        "    if conv_first:\n",
        "        x = conv(x)\n",
        "        if batch_normalization:\n",
        "            x = BatchNormalization()(x)\n",
        "        if activation is not None:\n",
        "            x = Activation(activation)(x)\n",
        "    else:\n",
        "        if batch_normalization:\n",
        "            x = BatchNormalization()(x)\n",
        "        if activation is not None:\n",
        "            x = Activation(activation)(x)\n",
        "        x = conv(x)\n",
        "    return x\n",
        "\n",
        "\n",
        "def resnet_v2(input_shape, depth, num_classes=10):\n",
        "    \"\"\"ResNet Version 2 Model builder [b]\n",
        "    Stacks of (1 x 1)-(3 x 3)-(1 x 1) BN-ReLU-Conv2D or also known as\n",
        "    bottleneck layer\n",
        "    First shortcut connection per layer is 1 x 1 Conv2D.\n",
        "    Second and onwards shortcut connection is identity.\n",
        "    At the beginning of each stage, the feature map size is halved (downsampled)\n",
        "    by a convolutional layer with strides=2, while the number of filter maps is\n",
        "    doubled. Within each stage, the layers have the same number filters and the\n",
        "    same filter map sizes.\n",
        "    Features maps sizes:\n",
        "    conv1  : 32x32,  16\n",
        "    stage 0: 32x32,  64\n",
        "    stage 1: 16x16, 128\n",
        "    stage 2:  8x8,  256\n",
        "    # Arguments\n",
        "        input_shape (tensor): shape of input image tensor\n",
        "        depth (int): number of core convolutional layers\n",
        "        num_classes (int): number of classes (CIFAR10 has 10)\n",
        "    # Returns\n",
        "        model (Model): Keras model instance\n",
        "    \"\"\"\n",
        "    if (depth - 2) % 9 != 0:\n",
        "        raise ValueError('depth should be 9n+2 (eg 56 or 110 in [b])')\n",
        "    # Start model definition.\n",
        "    num_filters_in = 16\n",
        "    num_res_blocks = int((depth - 2) / 9)\n",
        "\n",
        "    inputs = Input(shape=input_shape)\n",
        "    # v2 performs Conv2D with BN-ReLU on input before splitting into 2 paths\n",
        "    x = resnet_layer(inputs=inputs,\n",
        "                     num_filters=num_filters_in,\n",
        "                     conv_first=True)\n",
        "\n",
        "    # Instantiate the stack of residual units\n",
        "    for stage in range(3):\n",
        "        for res_block in range(num_res_blocks):\n",
        "            activation = 'relu'\n",
        "            batch_normalization = True\n",
        "            strides = 1\n",
        "            if stage == 0:\n",
        "                num_filters_out = num_filters_in * 4\n",
        "                if res_block == 0:  # first layer and first stage\n",
        "                    activation = None\n",
        "                    batch_normalization = False\n",
        "            else:\n",
        "                num_filters_out = num_filters_in * 2\n",
        "                if res_block == 0:  # first layer but not first stage\n",
        "                    strides = 2    # downsample\n",
        "\n",
        "            # bottleneck residual unit\n",
        "            y = resnet_layer(inputs=x,\n",
        "                             num_filters=num_filters_in,\n",
        "                             kernel_size=1,\n",
        "                             strides=strides,\n",
        "                             activation=activation,\n",
        "                             batch_normalization=batch_normalization,\n",
        "                             conv_first=False)\n",
        "            y = resnet_layer(inputs=y,\n",
        "                             num_filters=num_filters_in,\n",
        "                             conv_first=False)\n",
        "            y = resnet_layer(inputs=y,\n",
        "                             num_filters=num_filters_out,\n",
        "                             kernel_size=1,\n",
        "                             conv_first=False)\n",
        "            if res_block == 0:\n",
        "                # linear projection residual shortcut connection to match\n",
        "                # changed dims\n",
        "                x = resnet_layer(inputs=x,\n",
        "                                 num_filters=num_filters_out,\n",
        "                                 kernel_size=1,\n",
        "                                 strides=strides,\n",
        "                                 activation=None,\n",
        "                                 batch_normalization=False)\n",
        "            x = tf.keras.layers.add([x, y])\n",
        "\n",
        "        num_filters_in = num_filters_out\n",
        "\n",
        "    # Add classifier on top.\n",
        "    # v2 has BN-ReLU before Pooling\n",
        "    x = BatchNormalization()(x)\n",
        "    x = Activation('relu')(x)\n",
        "    x = AveragePooling2D(pool_size=8)(x)\n",
        "    y = Flatten()(x)\n",
        "    outputs = Dense(num_classes,\n",
        "                    activation='softmax',\n",
        "                    kernel_initializer='he_normal')(y)\n",
        "\n",
        "    # Instantiate model.\n",
        "    model = Model(inputs=inputs, outputs=outputs)\n",
        "    return model"
      ],
      "execution_count": 0,
      "outputs": []
    },
    {
      "cell_type": "code",
      "metadata": {
        "id": "K79UK4EkeHDF",
        "colab_type": "code",
        "colab": {}
      },
      "source": [
        "def lr_schedule(epoch):\n",
        "    \"\"\"Learning Rate Schedule\n",
        "    Learning rate is scheduled to be reduced after 80, 120, 160, 180 epochs.\n",
        "    Called automatically every epoch as part of callbacks during training.\n",
        "    # Arguments\n",
        "        epoch (int): The number of epochs\n",
        "    # Returns\n",
        "        lr (float32): learning rate\n",
        "    \"\"\"\n",
        "    lr = 1e-3\n",
        "    if epoch > 40:\n",
        "        lr *= 1e-2\n",
        "    elif epoch > 20:\n",
        "        lr *= 1e-1\n",
        "    print('Learning rate: ', lr)\n",
        "    return lr"
      ],
      "execution_count": 0,
      "outputs": []
    },
    {
      "cell_type": "markdown",
      "metadata": {
        "id": "BfGrJgWdVVg3",
        "colab_type": "text"
      },
      "source": [
        "# Fit the classifier\n"
      ]
    },
    {
      "cell_type": "markdown",
      "metadata": {
        "id": "zxfLg369ZTKo",
        "colab_type": "text"
      },
      "source": [
        "\n",
        "In the below code, we first load the training, validation, and testing data. Then we define a Keras ImageDataGenerator which performs on-the-fly augmentation of the training images in order to increase the number of training samples and thus reduces the risk of overfitting the training data set.\n",
        "\n",
        "The actual classifier training happens in line 46 with the command `resnet_model.fit_generator(...)`."
      ]
    },
    {
      "cell_type": "code",
      "metadata": {
        "id": "szqTyVzuJvFe",
        "colab_type": "code",
        "outputId": "8e4c156c-7862-45a5-977e-3f31f33b154f",
        "colab": {
          "base_uri": "https://localhost:8080/",
          "height": 110
        }
      },
      "source": [
        "resnet_model = resnet_v2(\n",
        "    (32, 32, 3), \n",
        "    depth=110, num_classes=hparams.n_classes)\n",
        "resnet_model.compile(\n",
        "    optimizer=tf.keras.optimizers.Adam(lr=lr_schedule(0)),\n",
        "    loss=tf.keras.losses.sparse_categorical_crossentropy,\n",
        "    metrics=['sparse_categorical_accuracy']\n",
        ")"
      ],
      "execution_count": 0,
      "outputs": [
        {
          "output_type": "stream",
          "text": [
            "WARNING:tensorflow:From /usr/local/lib/python3.6/dist-packages/tensorflow/python/ops/resource_variable_ops.py:435: colocate_with (from tensorflow.python.framework.ops) is deprecated and will be removed in a future version.\n",
            "Instructions for updating:\n",
            "Colocations handled automatically by placer.\n",
            "Learning rate:  0.001\n"
          ],
          "name": "stdout"
        }
      ]
    },
    {
      "cell_type": "code",
      "metadata": {
        "id": "VQWJ-urr99OC",
        "colab_type": "code",
        "outputId": "99251161-7d91-4e48-98e6-141a1fce1a30",
        "colab": {
          "base_uri": "https://localhost:8080/",
          "height": 5051
        }
      },
      "source": [
        "tf.logging.set_verbosity(tf.logging.INFO)\n",
        "\n",
        "lr_scheduler = tf.keras.callbacks.LearningRateScheduler(lr_schedule)\n",
        "\n",
        "# Download and extract CIFAR-10 data\n",
        "maybe_download_and_extract()\n",
        "\n",
        "# training data\n",
        "x_train, y_train = load_training_data()\n",
        "train_gen = CIFAR10Sequence(x_train, y_train, hparams.train_batch_size, augmentations=AUGMENTATIONS_TRAIN)\n",
        "\n",
        "# Validation data\n",
        "x_val, y_val = load_validation_data()\n",
        "valid_gen = CIFAR10Sequence(x_val, y_val, hparams.val_batch_size, augmentations=AUGMENTATIONS_TEST)\n",
        "\n",
        "# Define callbacks\n",
        "callbacks = [\n",
        "  tf.keras.callbacks.TensorBoard(log_dir=hparams.checkpoint_dir),\n",
        "  lr_scheduler,\n",
        "  tf.keras.callbacks.ModelCheckpoint(\n",
        "      \"checkpoints/\" + \"ckpt\", monitor=\"val_sparse_categorical_accuracy\", \n",
        "      save_best_only=True, save_weights_only=True)\n",
        "]\n",
        "\n",
        "# Fit the model on the batches generated by datagen.flow().\n",
        "history = resnet_model.fit_generator(\n",
        "    train_gen,\n",
        "    epochs=hparams.n_epochs,\n",
        "    validation_data=valid_gen,\n",
        "    workers=2, use_multiprocessing=False,\n",
        "    callbacks=callbacks)"
      ],
      "execution_count": 0,
      "outputs": [
        {
          "output_type": "stream",
          "text": [
            "Data has apparently already been downloaded and unpacked.\n",
            "Loading data: /tmp/cifar-data/cifar-10-batches-py/data_batch_1\n",
            "Loading data: /tmp/cifar-data/cifar-10-batches-py/data_batch_2\n",
            "Loading data: /tmp/cifar-data/cifar-10-batches-py/data_batch_3\n",
            "Loading data: /tmp/cifar-data/cifar-10-batches-py/data_batch_4\n",
            "Loading data: /tmp/cifar-data/cifar-10-batches-py/data_batch_5\n",
            "Loading data: /tmp/cifar-data/cifar-10-batches-py/test_batch\n",
            "Learning rate:  0.001\n",
            "Epoch 1/50\n",
            "40/40 [==============================] - 11s 272ms/step - loss: 2.3733 - sparse_categorical_accuracy: 0.5052\n",
            "WARNING:tensorflow:This model was compiled with a Keras optimizer (<tensorflow.python.keras.optimizers.Adam object at 0x7ff8a91cccc0>) but is being saved in TensorFlow format with `save_weights`. The model's weights will be saved, but unlike with TensorFlow optimizers in the TensorFlow format the optimizer's state will not be saved.\n",
            "\n",
            "Consider using a TensorFlow optimizer from `tf.train`.\n",
            "WARNING:tensorflow:From /usr/local/lib/python3.6/dist-packages/tensorflow/python/keras/engine/network.py:1436: update_checkpoint_state (from tensorflow.python.training.checkpoint_management) is deprecated and will be removed in a future version.\n",
            "Instructions for updating:\n",
            "Use tf.train.CheckpointManager to manage checkpoints rather than manually editing the Checkpoint proto.\n",
            "391/391 [==============================] - 347s 887ms/step - loss: 2.9081 - sparse_categorical_accuracy: 0.4559 - val_loss: 2.3733 - val_sparse_categorical_accuracy: 0.5052\n",
            "Learning rate:  0.001\n",
            "Epoch 2/50\n",
            "40/40 [==============================] - 8s 193ms/step - loss: 2.6746 - sparse_categorical_accuracy: 0.3814\n",
            "391/391 [==============================] - 323s 826ms/step - loss: 1.9759 - sparse_categorical_accuracy: 0.5830 - val_loss: 2.6746 - val_sparse_categorical_accuracy: 0.3814\n",
            "Learning rate:  0.001\n",
            "Epoch 3/50\n",
            "40/40 [==============================] - 8s 198ms/step - loss: 1.9283 - sparse_categorical_accuracy: 0.5418\n",
            "WARNING:tensorflow:This model was compiled with a Keras optimizer (<tensorflow.python.keras.optimizers.Adam object at 0x7ff8a91cccc0>) but is being saved in TensorFlow format with `save_weights`. The model's weights will be saved, but unlike with TensorFlow optimizers in the TensorFlow format the optimizer's state will not be saved.\n",
            "\n",
            "Consider using a TensorFlow optimizer from `tf.train`.\n",
            "391/391 [==============================] - 323s 827ms/step - loss: 1.6571 - sparse_categorical_accuracy: 0.6311 - val_loss: 1.9283 - val_sparse_categorical_accuracy: 0.5418\n",
            "Learning rate:  0.001\n",
            "Epoch 4/50\n",
            "40/40 [==============================] - 8s 192ms/step - loss: 1.5159 - sparse_categorical_accuracy: 0.6452\n",
            "WARNING:tensorflow:This model was compiled with a Keras optimizer (<tensorflow.python.keras.optimizers.Adam object at 0x7ff8a91cccc0>) but is being saved in TensorFlow format with `save_weights`. The model's weights will be saved, but unlike with TensorFlow optimizers in the TensorFlow format the optimizer's state will not be saved.\n",
            "\n",
            "Consider using a TensorFlow optimizer from `tf.train`.\n",
            "391/391 [==============================] - 323s 825ms/step - loss: 1.4731 - sparse_categorical_accuracy: 0.6689 - val_loss: 1.5159 - val_sparse_categorical_accuracy: 0.6452\n",
            "Learning rate:  0.001\n",
            "Epoch 5/50\n",
            "40/40 [==============================] - 8s 196ms/step - loss: 1.4765 - sparse_categorical_accuracy: 0.6290\n",
            "391/391 [==============================] - 322s 825ms/step - loss: 1.3445 - sparse_categorical_accuracy: 0.6949 - val_loss: 1.4765 - val_sparse_categorical_accuracy: 0.6290\n",
            "Learning rate:  0.001\n",
            "Epoch 6/50\n",
            "40/40 [==============================] - 8s 194ms/step - loss: 1.2814 - sparse_categorical_accuracy: 0.7002\n",
            "WARNING:tensorflow:This model was compiled with a Keras optimizer (<tensorflow.python.keras.optimizers.Adam object at 0x7ff8a91cccc0>) but is being saved in TensorFlow format with `save_weights`. The model's weights will be saved, but unlike with TensorFlow optimizers in the TensorFlow format the optimizer's state will not be saved.\n",
            "\n",
            "Consider using a TensorFlow optimizer from `tf.train`.\n",
            "391/391 [==============================] - 323s 826ms/step - loss: 1.2518 - sparse_categorical_accuracy: 0.7176 - val_loss: 1.2814 - val_sparse_categorical_accuracy: 0.7002\n",
            "Learning rate:  0.001\n",
            "Epoch 7/50\n",
            "40/40 [==============================] - 8s 197ms/step - loss: 1.4198 - sparse_categorical_accuracy: 0.6624\n",
            "391/391 [==============================] - 322s 824ms/step - loss: 1.1834 - sparse_categorical_accuracy: 0.7344 - val_loss: 1.4198 - val_sparse_categorical_accuracy: 0.6624\n",
            "Learning rate:  0.001\n",
            "Epoch 8/50\n",
            "40/40 [==============================] - 8s 197ms/step - loss: 1.1456 - sparse_categorical_accuracy: 0.7300\n",
            "WARNING:tensorflow:This model was compiled with a Keras optimizer (<tensorflow.python.keras.optimizers.Adam object at 0x7ff8a91cccc0>) but is being saved in TensorFlow format with `save_weights`. The model's weights will be saved, but unlike with TensorFlow optimizers in the TensorFlow format the optimizer's state will not be saved.\n",
            "\n",
            "Consider using a TensorFlow optimizer from `tf.train`.\n",
            "391/391 [==============================] - 323s 827ms/step - loss: 1.1240 - sparse_categorical_accuracy: 0.7474 - val_loss: 1.1456 - val_sparse_categorical_accuracy: 0.7300\n",
            "Learning rate:  0.001\n",
            "Epoch 9/50\n",
            "40/40 [==============================] - 8s 199ms/step - loss: 1.2457 - sparse_categorical_accuracy: 0.6972\n",
            "391/391 [==============================] - 323s 825ms/step - loss: 1.0724 - sparse_categorical_accuracy: 0.7596 - val_loss: 1.2457 - val_sparse_categorical_accuracy: 0.6972\n",
            "Learning rate:  0.001\n",
            "Epoch 10/50\n",
            "40/40 [==============================] - 8s 195ms/step - loss: 1.2627 - sparse_categorical_accuracy: 0.7012\n",
            "391/391 [==============================] - 323s 825ms/step - loss: 1.0350 - sparse_categorical_accuracy: 0.7696 - val_loss: 1.2627 - val_sparse_categorical_accuracy: 0.7012\n",
            "Learning rate:  0.001\n",
            "Epoch 11/50\n",
            "40/40 [==============================] - 8s 196ms/step - loss: 1.1986 - sparse_categorical_accuracy: 0.7152\n",
            "391/391 [==============================] - 323s 825ms/step - loss: 0.9937 - sparse_categorical_accuracy: 0.7800 - val_loss: 1.1986 - val_sparse_categorical_accuracy: 0.7152\n",
            "Learning rate:  0.001\n",
            "Epoch 12/50\n",
            "40/40 [==============================] - 8s 193ms/step - loss: 1.2591 - sparse_categorical_accuracy: 0.7036\n",
            "391/391 [==============================] - 319s 817ms/step - loss: 0.9604 - sparse_categorical_accuracy: 0.7861 - val_loss: 1.2591 - val_sparse_categorical_accuracy: 0.7036\n",
            "Learning rate:  0.001\n",
            "Epoch 13/50\n",
            "40/40 [==============================] - 8s 196ms/step - loss: 1.3099 - sparse_categorical_accuracy: 0.6774\n",
            "391/391 [==============================] - 321s 822ms/step - loss: 0.9289 - sparse_categorical_accuracy: 0.7967 - val_loss: 1.3099 - val_sparse_categorical_accuracy: 0.6774\n",
            "Learning rate:  0.001\n",
            "Epoch 14/50\n",
            "40/40 [==============================] - 8s 196ms/step - loss: 0.9670 - sparse_categorical_accuracy: 0.7754\n",
            "WARNING:tensorflow:This model was compiled with a Keras optimizer (<tensorflow.python.keras.optimizers.Adam object at 0x7ff8a91cccc0>) but is being saved in TensorFlow format with `save_weights`. The model's weights will be saved, but unlike with TensorFlow optimizers in the TensorFlow format the optimizer's state will not be saved.\n",
            "\n",
            "Consider using a TensorFlow optimizer from `tf.train`.\n",
            "391/391 [==============================] - 321s 821ms/step - loss: 0.9004 - sparse_categorical_accuracy: 0.8055 - val_loss: 0.9670 - val_sparse_categorical_accuracy: 0.7754\n",
            "Learning rate:  0.001\n",
            "Epoch 15/50\n",
            "40/40 [==============================] - 8s 197ms/step - loss: 1.0458 - sparse_categorical_accuracy: 0.7520\n",
            "391/391 [==============================] - 321s 820ms/step - loss: 0.8741 - sparse_categorical_accuracy: 0.8087 - val_loss: 1.0458 - val_sparse_categorical_accuracy: 0.7520\n",
            "Learning rate:  0.001\n",
            "Epoch 16/50\n",
            "40/40 [==============================] - 8s 199ms/step - loss: 1.0479 - sparse_categorical_accuracy: 0.7598\n",
            "391/391 [==============================] - 322s 824ms/step - loss: 0.8530 - sparse_categorical_accuracy: 0.8149 - val_loss: 1.0479 - val_sparse_categorical_accuracy: 0.7598\n",
            "Learning rate:  0.001\n",
            "Epoch 17/50\n",
            "40/40 [==============================] - 8s 194ms/step - loss: 0.9227 - sparse_categorical_accuracy: 0.7814\n",
            "WARNING:tensorflow:This model was compiled with a Keras optimizer (<tensorflow.python.keras.optimizers.Adam object at 0x7ff8a91cccc0>) but is being saved in TensorFlow format with `save_weights`. The model's weights will be saved, but unlike with TensorFlow optimizers in the TensorFlow format the optimizer's state will not be saved.\n",
            "\n",
            "Consider using a TensorFlow optimizer from `tf.train`.\n",
            "391/391 [==============================] - 324s 828ms/step - loss: 0.8291 - sparse_categorical_accuracy: 0.8202 - val_loss: 0.9227 - val_sparse_categorical_accuracy: 0.7814\n",
            "Learning rate:  0.001\n",
            "Epoch 18/50\n",
            "40/40 [==============================] - 8s 197ms/step - loss: 0.9581 - sparse_categorical_accuracy: 0.7796\n",
            "391/391 [==============================] - 322s 823ms/step - loss: 0.8148 - sparse_categorical_accuracy: 0.8239 - val_loss: 0.9581 - val_sparse_categorical_accuracy: 0.7796\n",
            "Learning rate:  0.001\n",
            "Epoch 19/50\n",
            "40/40 [==============================] - 8s 196ms/step - loss: 0.8904 - sparse_categorical_accuracy: 0.7962\n",
            "WARNING:tensorflow:This model was compiled with a Keras optimizer (<tensorflow.python.keras.optimizers.Adam object at 0x7ff8a91cccc0>) but is being saved in TensorFlow format with `save_weights`. The model's weights will be saved, but unlike with TensorFlow optimizers in the TensorFlow format the optimizer's state will not be saved.\n",
            "\n",
            "Consider using a TensorFlow optimizer from `tf.train`.\n",
            "391/391 [==============================] - 323s 825ms/step - loss: 0.7948 - sparse_categorical_accuracy: 0.8299 - val_loss: 0.8904 - val_sparse_categorical_accuracy: 0.7962\n",
            "Learning rate:  0.001\n",
            "Epoch 20/50\n",
            "40/40 [==============================] - 8s 194ms/step - loss: 0.9817 - sparse_categorical_accuracy: 0.7732\n",
            "391/391 [==============================] - 321s 822ms/step - loss: 0.7757 - sparse_categorical_accuracy: 0.8357 - val_loss: 0.9817 - val_sparse_categorical_accuracy: 0.7732\n",
            "Learning rate:  0.001\n",
            "Epoch 21/50\n",
            "40/40 [==============================] - 8s 196ms/step - loss: 1.0348 - sparse_categorical_accuracy: 0.7488\n",
            "391/391 [==============================] - 321s 821ms/step - loss: 0.7669 - sparse_categorical_accuracy: 0.8368 - val_loss: 1.0348 - val_sparse_categorical_accuracy: 0.7488\n",
            "Learning rate:  0.0001\n",
            "Epoch 22/50\n",
            "40/40 [==============================] - 8s 197ms/step - loss: 0.6196 - sparse_categorical_accuracy: 0.8800\n",
            "WARNING:tensorflow:This model was compiled with a Keras optimizer (<tensorflow.python.keras.optimizers.Adam object at 0x7ff8a91cccc0>) but is being saved in TensorFlow format with `save_weights`. The model's weights will be saved, but unlike with TensorFlow optimizers in the TensorFlow format the optimizer's state will not be saved.\n",
            "\n",
            "Consider using a TensorFlow optimizer from `tf.train`.\n",
            "391/391 [==============================] - 322s 823ms/step - loss: 0.6432 - sparse_categorical_accuracy: 0.8788 - val_loss: 0.6196 - val_sparse_categorical_accuracy: 0.8800\n",
            "Learning rate:  0.0001\n",
            "Epoch 23/50\n",
            "40/40 [==============================] - 8s 193ms/step - loss: 0.6061 - sparse_categorical_accuracy: 0.8842\n",
            "WARNING:tensorflow:This model was compiled with a Keras optimizer (<tensorflow.python.keras.optimizers.Adam object at 0x7ff8a91cccc0>) but is being saved in TensorFlow format with `save_weights`. The model's weights will be saved, but unlike with TensorFlow optimizers in the TensorFlow format the optimizer's state will not be saved.\n",
            "\n",
            "Consider using a TensorFlow optimizer from `tf.train`.\n",
            "391/391 [==============================] - 323s 826ms/step - loss: 0.5999 - sparse_categorical_accuracy: 0.8911 - val_loss: 0.6061 - val_sparse_categorical_accuracy: 0.8842\n",
            "Learning rate:  0.0001\n",
            "Epoch 24/50\n",
            "40/40 [==============================] - 8s 195ms/step - loss: 0.5887 - sparse_categorical_accuracy: 0.8894\n",
            "WARNING:tensorflow:This model was compiled with a Keras optimizer (<tensorflow.python.keras.optimizers.Adam object at 0x7ff8a91cccc0>) but is being saved in TensorFlow format with `save_weights`. The model's weights will be saved, but unlike with TensorFlow optimizers in the TensorFlow format the optimizer's state will not be saved.\n",
            "\n",
            "Consider using a TensorFlow optimizer from `tf.train`.\n",
            "391/391 [==============================] - 322s 823ms/step - loss: 0.5765 - sparse_categorical_accuracy: 0.8981 - val_loss: 0.5887 - val_sparse_categorical_accuracy: 0.8894\n",
            "Learning rate:  0.0001\n",
            "Epoch 25/50\n",
            "40/40 [==============================] - 8s 197ms/step - loss: 0.5905 - sparse_categorical_accuracy: 0.8890\n",
            "391/391 [==============================] - 323s 825ms/step - loss: 0.5596 - sparse_categorical_accuracy: 0.9013 - val_loss: 0.5905 - val_sparse_categorical_accuracy: 0.8890\n",
            "Learning rate:  0.0001\n",
            "Epoch 26/50\n",
            "40/40 [==============================] - 8s 198ms/step - loss: 0.5663 - sparse_categorical_accuracy: 0.8962\n",
            "WARNING:tensorflow:This model was compiled with a Keras optimizer (<tensorflow.python.keras.optimizers.Adam object at 0x7ff8a91cccc0>) but is being saved in TensorFlow format with `save_weights`. The model's weights will be saved, but unlike with TensorFlow optimizers in the TensorFlow format the optimizer's state will not be saved.\n",
            "\n",
            "Consider using a TensorFlow optimizer from `tf.train`.\n",
            "391/391 [==============================] - 323s 826ms/step - loss: 0.5455 - sparse_categorical_accuracy: 0.9039 - val_loss: 0.5663 - val_sparse_categorical_accuracy: 0.8962\n",
            "Learning rate:  0.0001\n",
            "Epoch 27/50\n",
            "40/40 [==============================] - 8s 196ms/step - loss: 0.5609 - sparse_categorical_accuracy: 0.8962\n",
            "391/391 [==============================] - 322s 824ms/step - loss: 0.5320 - sparse_categorical_accuracy: 0.9075 - val_loss: 0.5609 - val_sparse_categorical_accuracy: 0.8962\n",
            "Learning rate:  0.0001\n",
            "Epoch 28/50\n",
            "40/40 [==============================] - 8s 195ms/step - loss: 0.5677 - sparse_categorical_accuracy: 0.8912\n",
            "391/391 [==============================] - 322s 825ms/step - loss: 0.5223 - sparse_categorical_accuracy: 0.9090 - val_loss: 0.5677 - val_sparse_categorical_accuracy: 0.8912\n",
            "Learning rate:  0.0001\n",
            "Epoch 29/50\n",
            "40/40 [==============================] - 8s 196ms/step - loss: 0.5597 - sparse_categorical_accuracy: 0.8946\n",
            "391/391 [==============================] - 323s 827ms/step - loss: 0.5105 - sparse_categorical_accuracy: 0.9118 - val_loss: 0.5597 - val_sparse_categorical_accuracy: 0.8946\n",
            "Learning rate:  0.0001\n",
            "Epoch 30/50\n",
            "40/40 [==============================] - 8s 200ms/step - loss: 0.5562 - sparse_categorical_accuracy: 0.8954\n",
            "391/391 [==============================] - 324s 828ms/step - loss: 0.5018 - sparse_categorical_accuracy: 0.9157 - val_loss: 0.5562 - val_sparse_categorical_accuracy: 0.8954\n",
            "Learning rate:  0.0001\n",
            "Epoch 31/50\n",
            "40/40 [==============================] - 8s 200ms/step - loss: 0.5490 - sparse_categorical_accuracy: 0.8972\n",
            "WARNING:tensorflow:This model was compiled with a Keras optimizer (<tensorflow.python.keras.optimizers.Adam object at 0x7ff8a91cccc0>) but is being saved in TensorFlow format with `save_weights`. The model's weights will be saved, but unlike with TensorFlow optimizers in the TensorFlow format the optimizer's state will not be saved.\n",
            "\n",
            "Consider using a TensorFlow optimizer from `tf.train`.\n",
            "391/391 [==============================] - 324s 830ms/step - loss: 0.4905 - sparse_categorical_accuracy: 0.9173 - val_loss: 0.5490 - val_sparse_categorical_accuracy: 0.8972\n",
            "Learning rate:  0.0001\n",
            "Epoch 32/50\n",
            "40/40 [==============================] - 8s 198ms/step - loss: 0.5373 - sparse_categorical_accuracy: 0.9008\n",
            "WARNING:tensorflow:This model was compiled with a Keras optimizer (<tensorflow.python.keras.optimizers.Adam object at 0x7ff8a91cccc0>) but is being saved in TensorFlow format with `save_weights`. The model's weights will be saved, but unlike with TensorFlow optimizers in the TensorFlow format the optimizer's state will not be saved.\n",
            "\n",
            "Consider using a TensorFlow optimizer from `tf.train`.\n",
            "391/391 [==============================] - 323s 827ms/step - loss: 0.4806 - sparse_categorical_accuracy: 0.9188 - val_loss: 0.5373 - val_sparse_categorical_accuracy: 0.9008\n",
            "Learning rate:  0.0001\n",
            "Epoch 33/50\n",
            "40/40 [==============================] - 8s 196ms/step - loss: 0.5305 - sparse_categorical_accuracy: 0.9002\n",
            "391/391 [==============================] - 322s 824ms/step - loss: 0.4743 - sparse_categorical_accuracy: 0.9208 - val_loss: 0.5305 - val_sparse_categorical_accuracy: 0.9002\n",
            "Learning rate:  0.0001\n",
            "Epoch 34/50\n",
            "40/40 [==============================] - 8s 195ms/step - loss: 0.5553 - sparse_categorical_accuracy: 0.8922\n",
            "391/391 [==============================] - 321s 820ms/step - loss: 0.4635 - sparse_categorical_accuracy: 0.9237 - val_loss: 0.5553 - val_sparse_categorical_accuracy: 0.8922\n",
            "Learning rate:  0.0001\n",
            "Epoch 35/50\n",
            "40/40 [==============================] - 8s 198ms/step - loss: 0.5236 - sparse_categorical_accuracy: 0.9020\n",
            "WARNING:tensorflow:This model was compiled with a Keras optimizer (<tensorflow.python.keras.optimizers.Adam object at 0x7ff8a91cccc0>) but is being saved in TensorFlow format with `save_weights`. The model's weights will be saved, but unlike with TensorFlow optimizers in the TensorFlow format the optimizer's state will not be saved.\n",
            "\n",
            "Consider using a TensorFlow optimizer from `tf.train`.\n",
            "391/391 [==============================] - 322s 823ms/step - loss: 0.4578 - sparse_categorical_accuracy: 0.9242 - val_loss: 0.5236 - val_sparse_categorical_accuracy: 0.9020\n",
            "Learning rate:  0.0001\n",
            "Epoch 36/50\n",
            "40/40 [==============================] - 8s 198ms/step - loss: 0.5316 - sparse_categorical_accuracy: 0.8970\n",
            "391/391 [==============================] - 323s 826ms/step - loss: 0.4477 - sparse_categorical_accuracy: 0.9271 - val_loss: 0.5316 - val_sparse_categorical_accuracy: 0.8970\n",
            "Learning rate:  0.0001\n",
            "Epoch 37/50\n",
            "40/40 [==============================] - 8s 196ms/step - loss: 0.5297 - sparse_categorical_accuracy: 0.8982\n",
            "391/391 [==============================] - 322s 824ms/step - loss: 0.4421 - sparse_categorical_accuracy: 0.9285 - val_loss: 0.5297 - val_sparse_categorical_accuracy: 0.8982\n",
            "Learning rate:  0.0001\n",
            "Epoch 38/50\n",
            "40/40 [==============================] - 8s 192ms/step - loss: 0.5329 - sparse_categorical_accuracy: 0.9014\n",
            "391/391 [==============================] - 321s 821ms/step - loss: 0.4332 - sparse_categorical_accuracy: 0.9315 - val_loss: 0.5329 - val_sparse_categorical_accuracy: 0.9014\n",
            "Learning rate:  0.0001\n",
            "Epoch 39/50\n",
            "40/40 [==============================] - 8s 197ms/step - loss: 0.5138 - sparse_categorical_accuracy: 0.9068\n",
            "WARNING:tensorflow:This model was compiled with a Keras optimizer (<tensorflow.python.keras.optimizers.Adam object at 0x7ff8a91cccc0>) but is being saved in TensorFlow format with `save_weights`. The model's weights will be saved, but unlike with TensorFlow optimizers in the TensorFlow format the optimizer's state will not be saved.\n",
            "\n",
            "Consider using a TensorFlow optimizer from `tf.train`.\n",
            "391/391 [==============================] - 321s 821ms/step - loss: 0.4273 - sparse_categorical_accuracy: 0.9317 - val_loss: 0.5138 - val_sparse_categorical_accuracy: 0.9068\n",
            "Learning rate:  0.0001\n",
            "Epoch 40/50\n",
            "40/40 [==============================] - 8s 195ms/step - loss: 0.5313 - sparse_categorical_accuracy: 0.9000\n",
            "391/391 [==============================] - 321s 821ms/step - loss: 0.4204 - sparse_categorical_accuracy: 0.9346 - val_loss: 0.5313 - val_sparse_categorical_accuracy: 0.9000\n",
            "Learning rate:  0.0001\n",
            "Epoch 41/50\n",
            "40/40 [==============================] - 8s 195ms/step - loss: 0.5292 - sparse_categorical_accuracy: 0.9040\n",
            "391/391 [==============================] - 322s 823ms/step - loss: 0.4150 - sparse_categorical_accuracy: 0.9353 - val_loss: 0.5292 - val_sparse_categorical_accuracy: 0.9040\n",
            "Learning rate:  1e-05\n",
            "Epoch 42/50\n",
            "40/40 [==============================] - 8s 197ms/step - loss: 0.4988 - sparse_categorical_accuracy: 0.9080\n",
            "WARNING:tensorflow:This model was compiled with a Keras optimizer (<tensorflow.python.keras.optimizers.Adam object at 0x7ff8a91cccc0>) but is being saved in TensorFlow format with `save_weights`. The model's weights will be saved, but unlike with TensorFlow optimizers in the TensorFlow format the optimizer's state will not be saved.\n",
            "\n",
            "Consider using a TensorFlow optimizer from `tf.train`.\n",
            "391/391 [==============================] - 321s 821ms/step - loss: 0.3964 - sparse_categorical_accuracy: 0.9410 - val_loss: 0.4988 - val_sparse_categorical_accuracy: 0.9080\n",
            "Learning rate:  1e-05\n",
            "Epoch 43/50\n",
            "40/40 [==============================] - 8s 196ms/step - loss: 0.4963 - sparse_categorical_accuracy: 0.9102\n",
            "WARNING:tensorflow:This model was compiled with a Keras optimizer (<tensorflow.python.keras.optimizers.Adam object at 0x7ff8a91cccc0>) but is being saved in TensorFlow format with `save_weights`. The model's weights will be saved, but unlike with TensorFlow optimizers in the TensorFlow format the optimizer's state will not be saved.\n",
            "\n",
            "Consider using a TensorFlow optimizer from `tf.train`.\n",
            "391/391 [==============================] - 321s 822ms/step - loss: 0.3883 - sparse_categorical_accuracy: 0.9457 - val_loss: 0.4963 - val_sparse_categorical_accuracy: 0.9102\n",
            "Learning rate:  1e-05\n",
            "Epoch 44/50\n",
            "40/40 [==============================] - 8s 197ms/step - loss: 0.4953 - sparse_categorical_accuracy: 0.9104\n",
            "WARNING:tensorflow:This model was compiled with a Keras optimizer (<tensorflow.python.keras.optimizers.Adam object at 0x7ff8a91cccc0>) but is being saved in TensorFlow format with `save_weights`. The model's weights will be saved, but unlike with TensorFlow optimizers in the TensorFlow format the optimizer's state will not be saved.\n",
            "\n",
            "Consider using a TensorFlow optimizer from `tf.train`.\n",
            "391/391 [==============================] - 322s 825ms/step - loss: 0.3867 - sparse_categorical_accuracy: 0.9466 - val_loss: 0.4953 - val_sparse_categorical_accuracy: 0.9104\n",
            "Learning rate:  1e-05\n",
            "Epoch 45/50\n",
            "40/40 [==============================] - 8s 197ms/step - loss: 0.4966 - sparse_categorical_accuracy: 0.9092\n",
            "391/391 [==============================] - 323s 826ms/step - loss: 0.3844 - sparse_categorical_accuracy: 0.9460 - val_loss: 0.4966 - val_sparse_categorical_accuracy: 0.9092\n",
            "Learning rate:  1e-05\n",
            "Epoch 46/50\n",
            "40/40 [==============================] - 8s 195ms/step - loss: 0.4965 - sparse_categorical_accuracy: 0.9106\n",
            "WARNING:tensorflow:This model was compiled with a Keras optimizer (<tensorflow.python.keras.optimizers.Adam object at 0x7ff8a91cccc0>) but is being saved in TensorFlow format with `save_weights`. The model's weights will be saved, but unlike with TensorFlow optimizers in the TensorFlow format the optimizer's state will not be saved.\n",
            "\n",
            "Consider using a TensorFlow optimizer from `tf.train`.\n",
            "391/391 [==============================] - 322s 824ms/step - loss: 0.3808 - sparse_categorical_accuracy: 0.9474 - val_loss: 0.4965 - val_sparse_categorical_accuracy: 0.9106\n",
            "Learning rate:  1e-05\n",
            "Epoch 47/50\n",
            "40/40 [==============================] - 8s 195ms/step - loss: 0.4975 - sparse_categorical_accuracy: 0.9098\n",
            "391/391 [==============================] - 322s 823ms/step - loss: 0.3796 - sparse_categorical_accuracy: 0.9475 - val_loss: 0.4975 - val_sparse_categorical_accuracy: 0.9098\n",
            "Learning rate:  1e-05\n",
            "Epoch 48/50\n",
            "40/40 [==============================] - 8s 198ms/step - loss: 0.4935 - sparse_categorical_accuracy: 0.9090\n",
            "391/391 [==============================] - 324s 830ms/step - loss: 0.3797 - sparse_categorical_accuracy: 0.9482 - val_loss: 0.4935 - val_sparse_categorical_accuracy: 0.9090\n",
            "Learning rate:  1e-05\n",
            "Epoch 49/50\n",
            "40/40 [==============================] - 8s 196ms/step - loss: 0.4911 - sparse_categorical_accuracy: 0.9106\n",
            "391/391 [==============================] - 323s 826ms/step - loss: 0.3760 - sparse_categorical_accuracy: 0.9493 - val_loss: 0.4911 - val_sparse_categorical_accuracy: 0.9106\n",
            "Learning rate:  1e-05\n",
            "Epoch 50/50\n",
            "40/40 [==============================] - 8s 196ms/step - loss: 0.4940 - sparse_categorical_accuracy: 0.9122\n",
            "WARNING:tensorflow:This model was compiled with a Keras optimizer (<tensorflow.python.keras.optimizers.Adam object at 0x7ff8a91cccc0>) but is being saved in TensorFlow format with `save_weights`. The model's weights will be saved, but unlike with TensorFlow optimizers in the TensorFlow format the optimizer's state will not be saved.\n",
            "\n",
            "Consider using a TensorFlow optimizer from `tf.train`.\n",
            "391/391 [==============================] - 323s 826ms/step - loss: 0.3761 - sparse_categorical_accuracy: 0.9496 - val_loss: 0.4940 - val_sparse_categorical_accuracy: 0.9122\n"
          ],
          "name": "stdout"
        }
      ]
    },
    {
      "cell_type": "code",
      "metadata": {
        "id": "rEgjjTlPyBzF",
        "colab_type": "code",
        "outputId": "0aeda6af-2ced-4a68-963b-fd857b6acb52",
        "colab": {
          "base_uri": "https://localhost:8080/",
          "height": 35
        }
      },
      "source": [
        "!ls checkpoints/"
      ],
      "execution_count": 0,
      "outputs": [
        {
          "output_type": "stream",
          "text": [
            "checkpoint  ckpt.data-00000-of-00001  ckpt.index\n"
          ],
          "name": "stdout"
        }
      ]
    },
    {
      "cell_type": "markdown",
      "metadata": {
        "id": "QG-vhJ14RkBy",
        "colab_type": "text"
      },
      "source": [
        "# Visualization of confusion matrix\n",
        "\n",
        "The below code takes a confusion matrix and produces a nice and shiny visualization"
      ]
    },
    {
      "cell_type": "code",
      "metadata": {
        "id": "UiKRYOWPfhJs",
        "colab_type": "code",
        "colab": {}
      },
      "source": [
        "def plot_confusion_matrix(cm, classes,\n",
        "                          normalize=False,\n",
        "                          title='Confusion matrix',\n",
        "                          cmap=plt.cm.Blues):\n",
        "    \"\"\"\n",
        "    This function prints and plots the confusion matrix.\n",
        "    Normalization can be applied by setting `normalize=True`.\n",
        "    \"\"\"\n",
        "    if normalize:\n",
        "        cm = cm.astype('float') / cm.sum(axis=1)[:, np.newaxis]\n",
        "        print(\"Normalized confusion matrix\")\n",
        "    else:\n",
        "        print('Confusion matrix, without normalization')\n",
        "\n",
        "    print(cm)\n",
        "\n",
        "    plt.imshow(cm, interpolation='nearest', cmap=cmap)\n",
        "    plt.title(title)\n",
        "    plt.colorbar()\n",
        "    tick_marks = np.arange(len(classes))\n",
        "    plt.xticks(tick_marks, classes, rotation=45)\n",
        "    plt.yticks(tick_marks, classes)\n",
        "\n",
        "    fmt = '.2f' if normalize else 'd'\n",
        "    thresh = cm.max() / 2.\n",
        "    for i, j in itertools.product(range(cm.shape[0]), range(cm.shape[1])):\n",
        "        plt.text(j, i, format(cm[i, j], fmt),\n",
        "                 horizontalalignment=\"center\",\n",
        "                 color=\"white\" if cm[i, j] > thresh else \"black\")\n",
        "\n",
        "    plt.ylabel('True label')\n",
        "    plt.xlabel('Predicted label')\n",
        "    plt.tight_layout()"
      ],
      "execution_count": 0,
      "outputs": []
    },
    {
      "cell_type": "code",
      "metadata": {
        "id": "BqY-vngiRoTZ",
        "colab_type": "code",
        "outputId": "5c06c18e-3e2e-47dc-8e0e-0925ec3509d2",
        "colab": {
          "base_uri": "https://localhost:8080/",
          "height": 621
        }
      },
      "source": [
        "# Testing data\n",
        "x_test, y_test = load_testing_data()\n",
        "test_gen = CIFAR10Sequence(x_test, y_test, hparams.val_batch_size, augmentations=AUGMENTATIONS_TEST)\n",
        "\n",
        "results = resnet_model.predict_generator(test_gen)\n",
        "\n",
        "# convert from class probabilities to actual class predictions\n",
        "predicted_classes = np.argmax(results, axis=1)\n",
        "\n",
        "# Names of predicted classes\n",
        "class_names = [\"airplane\", \"automobile\", \"bird\", \"cat\", \"deer\", \"dog\", \"frog\", \"horse\", \"ship\", \"truck\"]\n",
        "\n",
        "# Generate the confusion matrix\n",
        "cnf_matrix = confusion_matrix(y_test, predicted_classes)\n",
        "\n",
        "# Plot non-normalized confusion matrix\n",
        "plt.figure()\n",
        "plot_confusion_matrix(cnf_matrix, classes=class_names,\n",
        "                      title='Confusion matrix, without normalization')\n",
        "\n",
        "plt.show()"
      ],
      "execution_count": 0,
      "outputs": [
        {
          "output_type": "stream",
          "text": [
            "Loading data: /tmp/cifar-data/cifar-10-batches-py/test_batch\n",
            "Confusion matrix, without normalization\n",
            "[[445   2  11   5   1   2   1   4  12   5]\n",
            " [  3 484   0   0   0   0   1   0   3  14]\n",
            " [ 17   0 444   8  13  10  12   4   3   1]\n",
            " [  4   1  11 398  16  42  12  11   2   0]\n",
            " [  4   2  14   8 457   5   9   7   1   0]\n",
            " [  1   1   9  44  11 412   3   5   1   1]\n",
            " [  3   0  11  12   4   3 457   0   0   1]\n",
            " [  2   0   4   8  11  12   0 457   1   0]\n",
            " [ 13   2   1   2   1   1   1   0 478   5]\n",
            " [  5  14   1   2   0   1   2   0   6 482]]\n"
          ],
          "name": "stdout"
        },
        {
          "output_type": "display_data",
          "data": {
            "image/png": "[encoded data removed]",
            "text/plain": [
              "<Figure size 576x396 with 2 Axes>"
            ]
          },
          "metadata": {
            "tags": []
          }
        }
      ]
    },
    {
      "cell_type": "code",
      "metadata": {
        "id": "sYIAFf52yipF",
        "colab_type": "code",
        "outputId": "d14b87a9-062d-4413-8402-3e4e04f91955",
        "colab": {
          "base_uri": "https://localhost:8080/",
          "height": 35
        }
      },
      "source": [
        "print(\"Test Accuracy: %.2f%%\" % (sum(y_test == predicted_classes) * 100. / y_test.shape[0]))"
      ],
      "execution_count": 0,
      "outputs": [
        {
          "output_type": "stream",
          "text": [
            "Test Accuracy: 90.28%\n"
          ],
          "name": "stdout"
        }
      ]
    },
    {
      "cell_type": "code",
      "metadata": {
        "id": "biFKRwoUyW-S",
        "colab_type": "code",
        "colab": {}
      },
      "source": [
        ""
      ],
      "execution_count": 0,
      "outputs": []
    }
  ]
}